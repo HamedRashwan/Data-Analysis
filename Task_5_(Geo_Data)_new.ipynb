{
  "cells": [
    {
      "cell_type": "markdown",
      "metadata": {
        "id": "F-dW3ix8Jehg"
      },
      "source": [
        "# you are working in a marketing company Christmas market and your manager asked you to get the location of the customer from their address and put them on a world map"
      ]
    },
    {
      "cell_type": "code",
      "execution_count": 3,
      "metadata": {
        "colab": {
          "base_uri": "https://localhost:8080/",
          "height": 583
        },
        "id": "CeNjWK7FJYbY",
        "outputId": "f5441f09-0296-42be-cbe0-27ad921c3fc3"
      },
      "outputs": [
        {
          "data": {
            "text/html": [
              "<div>\n",
              "<style scoped>\n",
              "    .dataframe tbody tr th:only-of-type {\n",
              "        vertical-align: middle;\n",
              "    }\n",
              "\n",
              "    .dataframe tbody tr th {\n",
              "        vertical-align: top;\n",
              "    }\n",
              "\n",
              "    .dataframe thead th {\n",
              "        text-align: right;\n",
              "    }\n",
              "</style>\n",
              "<table border=\"1\" class=\"dataframe\">\n",
              "  <thead>\n",
              "    <tr style=\"text-align: right;\">\n",
              "      <th></th>\n",
              "      <th>name</th>\n",
              "      <th>address</th>\n",
              "      <th>descriptio</th>\n",
              "      <th>Ort</th>\n",
              "      <th>Datum</th>\n",
              "      <th>Öffnungsz</th>\n",
              "      <th>Corona-Reg</th>\n",
              "      <th>Beschreibu</th>\n",
              "      <th>Website</th>\n",
              "      <th>Country</th>\n",
              "    </tr>\n",
              "  </thead>\n",
              "  <tbody>\n",
              "    <tr>\n",
              "      <th>0</th>\n",
              "      <td>Stuttgarter Weihnachtsmarkt</td>\n",
              "      <td>Marktplatz 1, 70173 Stuttgart</td>\n",
              "      <td>Ort: Marktplatz 1, 70173 Stuttgart&lt;br&gt;Datum: 2...</td>\n",
              "      <td>Marktplatz 1, 70173 Stuttgart</td>\n",
              "      <td>24. November bis 30. Dezember</td>\n",
              "      <td>• Montag bis Donnerstag: 10 bis 21 Uhr\\n• Frei...</td>\n",
              "      <td>• 2G-Regel und Maskenpflicht auf dem gesamten ...</td>\n",
              "      <td>Der Weihnachtsmarkt findet in diesem Jahr stat...</td>\n",
              "      <td>https://www.stuttgarter-weihnachtsmarkt.de/de/...</td>\n",
              "      <td>Germany</td>\n",
              "    </tr>\n",
              "    <tr>\n",
              "      <th>1</th>\n",
              "      <td>Esslinger Mittelalter- und Weihnachtsmarkt</td>\n",
              "      <td>Rathausplatz, 73728 Esslingen am Neckar</td>\n",
              "      <td>Ort: Rathausplatz, 73728 Esslingen am Neckar&lt;b...</td>\n",
              "      <td>Rathausplatz, 73728 Esslingen am Neckar</td>\n",
              "      <td>23. November bis 22. Dezember</td>\n",
              "      <td>•Eröffnungstag: 16 bis 20 Uhr \\n•Sonntag bis D...</td>\n",
              "      <td>• Wenn Ihr direkt vor Ort Essen und Trinken wo...</td>\n",
              "      <td>Als einer der bekanntesten Weihnachtsmärkte in...</td>\n",
              "      <td>https://www.esslingen-marketing.de/weihnachtsm...</td>\n",
              "      <td>Germany</td>\n",
              "    </tr>\n",
              "    <tr>\n",
              "      <th>2</th>\n",
              "      <td>Kätchen Weihnachtsmarkt Heilbronn</td>\n",
              "      <td>74072 Heilbronn-Innenstadt</td>\n",
              "      <td>Ort: 74072 Heilbronn-Innenstadt&lt;br&gt;Datum: 25. ...</td>\n",
              "      <td>74072 Heilbronn-Innenstadt</td>\n",
              "      <td>25. November bis 22. Dezember</td>\n",
              "      <td>• Montag bis Freitag: 13 bis 20 Uhr\\n• Samstag...</td>\n",
              "      <td>• Der Zugang zu rund 70 Ständen in der Fußgäng...</td>\n",
              "      <td>Besonderes Highlight für Familien in diesem Ja...</td>\n",
              "      <td>https://www.heilbronn.de/tourismus/veranstaltu...</td>\n",
              "      <td>Germany</td>\n",
              "    </tr>\n",
              "    <tr>\n",
              "      <th>3</th>\n",
              "      <td>Goldener Pforzheimer Weihnachtsmarkt</td>\n",
              "      <td>75172 Pforzheim, Innenstadt</td>\n",
              "      <td>Ort: 75172 Pforzheim, Innenstadt&lt;br&gt;Datum: 22....</td>\n",
              "      <td>75172 Pforzheim, Innenstadt</td>\n",
              "      <td>22. November bis 22. Dezember</td>\n",
              "      <td>Täglich 12 bis 20Uhr</td>\n",
              "      <td>• Der Markt ist grundsätzlich frei zugänglich....</td>\n",
              "      <td>Hingucker ist die 20 Meter hohe Engels-Pyramid...</td>\n",
              "      <td>https://www.ws-pforzheim.de/standortmarketing/...</td>\n",
              "      <td>Germany</td>\n",
              "    </tr>\n",
              "    <tr>\n",
              "      <th>4</th>\n",
              "      <td>chokoMARKT Tübingen</td>\n",
              "      <td>Am Markt 1, 72070 Tübingen</td>\n",
              "      <td>Ort: Am Markt 1, 72070 Tübingen&lt;br&gt;Datum: 30. ...</td>\n",
              "      <td>Am Markt 1, 72070 Tübingen</td>\n",
              "      <td>30. November bis 5. Dezember</td>\n",
              "      <td>• Täglich 10 bis 20 Uhr • 30. November: 13 bis...</td>\n",
              "      <td>Details sollen bis zum 25. November bekannt ge...</td>\n",
              "      <td>Schokodurft in Tübingens Altstadt - hier bekom...</td>\n",
              "      <td>https://www.chocolart.de/</td>\n",
              "      <td>Germany</td>\n",
              "    </tr>\n",
              "  </tbody>\n",
              "</table>\n",
              "</div>"
            ],
            "text/plain": [
              "                                         name  \\\n",
              "0                 Stuttgarter Weihnachtsmarkt   \n",
              "1  Esslinger Mittelalter- und Weihnachtsmarkt   \n",
              "2           Kätchen Weihnachtsmarkt Heilbronn   \n",
              "3        Goldener Pforzheimer Weihnachtsmarkt   \n",
              "4                         chokoMARKT Tübingen   \n",
              "\n",
              "                                   address  \\\n",
              "0            Marktplatz 1, 70173 Stuttgart   \n",
              "1  Rathausplatz, 73728 Esslingen am Neckar   \n",
              "2               74072 Heilbronn-Innenstadt   \n",
              "3              75172 Pforzheim, Innenstadt   \n",
              "4               Am Markt 1, 72070 Tübingen   \n",
              "\n",
              "                                          descriptio  \\\n",
              "0  Ort: Marktplatz 1, 70173 Stuttgart<br>Datum: 2...   \n",
              "1  Ort: Rathausplatz, 73728 Esslingen am Neckar<b...   \n",
              "2  Ort: 74072 Heilbronn-Innenstadt<br>Datum: 25. ...   \n",
              "3  Ort: 75172 Pforzheim, Innenstadt<br>Datum: 22....   \n",
              "4  Ort: Am Markt 1, 72070 Tübingen<br>Datum: 30. ...   \n",
              "\n",
              "                                       Ort                          Datum  \\\n",
              "0            Marktplatz 1, 70173 Stuttgart  24. November bis 30. Dezember   \n",
              "1  Rathausplatz, 73728 Esslingen am Neckar  23. November bis 22. Dezember   \n",
              "2               74072 Heilbronn-Innenstadt  25. November bis 22. Dezember   \n",
              "3              75172 Pforzheim, Innenstadt  22. November bis 22. Dezember   \n",
              "4               Am Markt 1, 72070 Tübingen   30. November bis 5. Dezember   \n",
              "\n",
              "                                           Öffnungsz  \\\n",
              "0  • Montag bis Donnerstag: 10 bis 21 Uhr\\n• Frei...   \n",
              "1  •Eröffnungstag: 16 bis 20 Uhr \\n•Sonntag bis D...   \n",
              "2  • Montag bis Freitag: 13 bis 20 Uhr\\n• Samstag...   \n",
              "3                               Täglich 12 bis 20Uhr   \n",
              "4  • Täglich 10 bis 20 Uhr • 30. November: 13 bis...   \n",
              "\n",
              "                                          Corona-Reg  \\\n",
              "0  • 2G-Regel und Maskenpflicht auf dem gesamten ...   \n",
              "1  • Wenn Ihr direkt vor Ort Essen und Trinken wo...   \n",
              "2  • Der Zugang zu rund 70 Ständen in der Fußgäng...   \n",
              "3  • Der Markt ist grundsätzlich frei zugänglich....   \n",
              "4  Details sollen bis zum 25. November bekannt ge...   \n",
              "\n",
              "                                          Beschreibu  \\\n",
              "0  Der Weihnachtsmarkt findet in diesem Jahr stat...   \n",
              "1  Als einer der bekanntesten Weihnachtsmärkte in...   \n",
              "2  Besonderes Highlight für Familien in diesem Ja...   \n",
              "3  Hingucker ist die 20 Meter hohe Engels-Pyramid...   \n",
              "4  Schokodurft in Tübingens Altstadt - hier bekom...   \n",
              "\n",
              "                                             Website  Country  \n",
              "0  https://www.stuttgarter-weihnachtsmarkt.de/de/...  Germany  \n",
              "1  https://www.esslingen-marketing.de/weihnachtsm...  Germany  \n",
              "2  https://www.heilbronn.de/tourismus/veranstaltu...  Germany  \n",
              "3  https://www.ws-pforzheim.de/standortmarketing/...  Germany  \n",
              "4                          https://www.chocolart.de/  Germany  "
            ]
          },
          "execution_count": 3,
          "metadata": {},
          "output_type": "execute_result"
        }
      ],
      "source": [
        "import pandas as pd\n",
        "df = pd.read_csv(r'D:\\COURSES\\AI\\Epsilon Ai\\Session 25\\Assigment\\datasets\\ChristmasMarketData.csv')\n",
        "df.head()"
      ]
    },
    {
      "cell_type": "code",
      "execution_count": 4,
      "metadata": {
        "id": "IO2hrRyBKWgZ"
      },
      "outputs": [],
      "source": [
        "import geocoder"
      ]
    },
    {
      "cell_type": "code",
      "execution_count": 5,
      "metadata": {
        "id": "4h6ZOqBHKeRj"
      },
      "outputs": [],
      "source": [
        "def geocoding(input_address):\n",
        "   g = geocoder.osm(input_address)\n",
        "   return g.osm['x'], g.osm['y']"
      ]
    },
    {
      "cell_type": "code",
      "execution_count": 6,
      "metadata": {
        "colab": {
          "base_uri": "https://localhost:8080/",
          "height": 583
        },
        "id": "AkXvwpwqKhrR",
        "outputId": "c8768f3f-98eb-4232-9801-4dd960a65dbc"
      },
      "outputs": [
        {
          "name": "stdout",
          "output_type": "stream",
          "text": [
            "Requirement already satisfied: geocoder in c:\\users\\hamed\\appdata\\local\\programs\\python\\python311\\lib\\site-packages (1.38.1)\n",
            "Requirement already satisfied: click in c:\\users\\hamed\\appdata\\local\\programs\\python\\python311\\lib\\site-packages (from geocoder) (8.1.3)\n",
            "Requirement already satisfied: future in c:\\users\\hamed\\appdata\\local\\programs\\python\\python311\\lib\\site-packages (from geocoder) (1.0.0)\n",
            "Requirement already satisfied: ratelim in c:\\users\\hamed\\appdata\\local\\programs\\python\\python311\\lib\\site-packages (from geocoder) (0.1.6)\n",
            "Requirement already satisfied: requests in c:\\users\\hamed\\appdata\\local\\programs\\python\\python311\\lib\\site-packages (from geocoder) (2.31.0)\n",
            "Requirement already satisfied: six in c:\\users\\hamed\\appdata\\local\\programs\\python\\python311\\lib\\site-packages (from geocoder) (1.16.0)\n",
            "Requirement already satisfied: colorama in c:\\users\\hamed\\appdata\\local\\programs\\python\\python311\\lib\\site-packages (from click->geocoder) (0.4.6)\n",
            "Requirement already satisfied: decorator in c:\\users\\hamed\\appdata\\local\\programs\\python\\python311\\lib\\site-packages (from ratelim->geocoder) (5.1.1)\n",
            "Requirement already satisfied: charset-normalizer<4,>=2 in c:\\users\\hamed\\appdata\\local\\programs\\python\\python311\\lib\\site-packages (from requests->geocoder) (3.1.0)\n",
            "Requirement already satisfied: idna<4,>=2.5 in c:\\users\\hamed\\appdata\\local\\programs\\python\\python311\\lib\\site-packages (from requests->geocoder) (2.10)\n",
            "Requirement already satisfied: urllib3<3,>=1.21.1 in c:\\users\\hamed\\appdata\\local\\programs\\python\\python311\\lib\\site-packages (from requests->geocoder) (1.26.16)\n",
            "Requirement already satisfied: certifi>=2017.4.17 in c:\\users\\hamed\\appdata\\local\\programs\\python\\python311\\lib\\site-packages (from requests->geocoder) (2023.5.7)\n"
          ]
        },
        {
          "name": "stderr",
          "output_type": "stream",
          "text": [
            "\n",
            "[notice] A new release of pip is available: 23.3.1 -> 24.0\n",
            "[notice] To update, run: python.exe -m pip install --upgrade pip\n"
          ]
        },
        {
          "data": {
            "text/html": [
              "<div>\n",
              "<style scoped>\n",
              "    .dataframe tbody tr th:only-of-type {\n",
              "        vertical-align: middle;\n",
              "    }\n",
              "\n",
              "    .dataframe tbody tr th {\n",
              "        vertical-align: top;\n",
              "    }\n",
              "\n",
              "    .dataframe thead th {\n",
              "        text-align: right;\n",
              "    }\n",
              "</style>\n",
              "<table border=\"1\" class=\"dataframe\">\n",
              "  <thead>\n",
              "    <tr style=\"text-align: right;\">\n",
              "      <th></th>\n",
              "      <th>name</th>\n",
              "      <th>address</th>\n",
              "      <th>descriptio</th>\n",
              "      <th>Ort</th>\n",
              "      <th>Datum</th>\n",
              "      <th>Öffnungsz</th>\n",
              "      <th>Corona-Reg</th>\n",
              "      <th>Beschreibu</th>\n",
              "      <th>Website</th>\n",
              "      <th>Country</th>\n",
              "      <th>locations</th>\n",
              "      <th>lon</th>\n",
              "      <th>lat</th>\n",
              "    </tr>\n",
              "  </thead>\n",
              "  <tbody>\n",
              "    <tr>\n",
              "      <th>0</th>\n",
              "      <td>Stuttgarter Weihnachtsmarkt</td>\n",
              "      <td>Marktplatz 1, 70173 Stuttgart</td>\n",
              "      <td>Ort: Marktplatz 1, 70173 Stuttgart&lt;br&gt;Datum: 2...</td>\n",
              "      <td>Marktplatz 1, 70173 Stuttgart</td>\n",
              "      <td>24. November bis 30. Dezember</td>\n",
              "      <td>• Montag bis Donnerstag: 10 bis 21 Uhr\\n• Frei...</td>\n",
              "      <td>• 2G-Regel und Maskenpflicht auf dem gesamten ...</td>\n",
              "      <td>Der Weihnachtsmarkt findet in diesem Jahr stat...</td>\n",
              "      <td>https://www.stuttgarter-weihnachtsmarkt.de/de/...</td>\n",
              "      <td>Germany</td>\n",
              "      <td>(9.1774918, 48.7748156)</td>\n",
              "      <td>9.177492</td>\n",
              "      <td>48.774816</td>\n",
              "    </tr>\n",
              "    <tr>\n",
              "      <th>1</th>\n",
              "      <td>Esslinger Mittelalter- und Weihnachtsmarkt</td>\n",
              "      <td>Rathausplatz, 73728 Esslingen am Neckar</td>\n",
              "      <td>Ort: Rathausplatz, 73728 Esslingen am Neckar&lt;b...</td>\n",
              "      <td>Rathausplatz, 73728 Esslingen am Neckar</td>\n",
              "      <td>23. November bis 22. Dezember</td>\n",
              "      <td>•Eröffnungstag: 16 bis 20 Uhr \\n•Sonntag bis D...</td>\n",
              "      <td>• Wenn Ihr direkt vor Ort Essen und Trinken wo...</td>\n",
              "      <td>Als einer der bekanntesten Weihnachtsmärkte in...</td>\n",
              "      <td>https://www.esslingen-marketing.de/weihnachtsm...</td>\n",
              "      <td>Germany</td>\n",
              "      <td>(9.3076275, 48.7423018)</td>\n",
              "      <td>9.307628</td>\n",
              "      <td>48.742302</td>\n",
              "    </tr>\n",
              "    <tr>\n",
              "      <th>2</th>\n",
              "      <td>Kätchen Weihnachtsmarkt Heilbronn</td>\n",
              "      <td>74072 Heilbronn-Innenstadt</td>\n",
              "      <td>Ort: 74072 Heilbronn-Innenstadt&lt;br&gt;Datum: 25. ...</td>\n",
              "      <td>74072 Heilbronn-Innenstadt</td>\n",
              "      <td>25. November bis 22. Dezember</td>\n",
              "      <td>• Montag bis Freitag: 13 bis 20 Uhr\\n• Samstag...</td>\n",
              "      <td>• Der Zugang zu rund 70 Ständen in der Fußgäng...</td>\n",
              "      <td>Besonderes Highlight für Familien in diesem Ja...</td>\n",
              "      <td>https://www.heilbronn.de/tourismus/veranstaltu...</td>\n",
              "      <td>Germany</td>\n",
              "      <td>(9.2186679, 49.1388695)</td>\n",
              "      <td>9.218668</td>\n",
              "      <td>49.138869</td>\n",
              "    </tr>\n",
              "    <tr>\n",
              "      <th>3</th>\n",
              "      <td>Goldener Pforzheimer Weihnachtsmarkt</td>\n",
              "      <td>75172 Pforzheim, Innenstadt</td>\n",
              "      <td>Ort: 75172 Pforzheim, Innenstadt&lt;br&gt;Datum: 22....</td>\n",
              "      <td>75172 Pforzheim, Innenstadt</td>\n",
              "      <td>22. November bis 22. Dezember</td>\n",
              "      <td>Täglich 12 bis 20Uhr</td>\n",
              "      <td>• Der Markt ist grundsätzlich frei zugänglich....</td>\n",
              "      <td>Hingucker ist die 20 Meter hohe Engels-Pyramid...</td>\n",
              "      <td>https://www.ws-pforzheim.de/standortmarketing/...</td>\n",
              "      <td>Germany</td>\n",
              "      <td>(8.7031594, 48.8908573)</td>\n",
              "      <td>8.703159</td>\n",
              "      <td>48.890857</td>\n",
              "    </tr>\n",
              "    <tr>\n",
              "      <th>4</th>\n",
              "      <td>chokoMARKT Tübingen</td>\n",
              "      <td>Am Markt 1, 72070 Tübingen</td>\n",
              "      <td>Ort: Am Markt 1, 72070 Tübingen&lt;br&gt;Datum: 30. ...</td>\n",
              "      <td>Am Markt 1, 72070 Tübingen</td>\n",
              "      <td>30. November bis 5. Dezember</td>\n",
              "      <td>• Täglich 10 bis 20 Uhr • 30. November: 13 bis...</td>\n",
              "      <td>Details sollen bis zum 25. November bekannt ge...</td>\n",
              "      <td>Schokodurft in Tübingens Altstadt - hier bekom...</td>\n",
              "      <td>https://www.chocolart.de/</td>\n",
              "      <td>Germany</td>\n",
              "      <td>(9.053101781543864, 48.52035445)</td>\n",
              "      <td>9.053102</td>\n",
              "      <td>48.520354</td>\n",
              "    </tr>\n",
              "  </tbody>\n",
              "</table>\n",
              "</div>"
            ],
            "text/plain": [
              "                                         name  \\\n",
              "0                 Stuttgarter Weihnachtsmarkt   \n",
              "1  Esslinger Mittelalter- und Weihnachtsmarkt   \n",
              "2           Kätchen Weihnachtsmarkt Heilbronn   \n",
              "3        Goldener Pforzheimer Weihnachtsmarkt   \n",
              "4                         chokoMARKT Tübingen   \n",
              "\n",
              "                                   address  \\\n",
              "0            Marktplatz 1, 70173 Stuttgart   \n",
              "1  Rathausplatz, 73728 Esslingen am Neckar   \n",
              "2               74072 Heilbronn-Innenstadt   \n",
              "3              75172 Pforzheim, Innenstadt   \n",
              "4               Am Markt 1, 72070 Tübingen   \n",
              "\n",
              "                                          descriptio  \\\n",
              "0  Ort: Marktplatz 1, 70173 Stuttgart<br>Datum: 2...   \n",
              "1  Ort: Rathausplatz, 73728 Esslingen am Neckar<b...   \n",
              "2  Ort: 74072 Heilbronn-Innenstadt<br>Datum: 25. ...   \n",
              "3  Ort: 75172 Pforzheim, Innenstadt<br>Datum: 22....   \n",
              "4  Ort: Am Markt 1, 72070 Tübingen<br>Datum: 30. ...   \n",
              "\n",
              "                                       Ort                          Datum  \\\n",
              "0            Marktplatz 1, 70173 Stuttgart  24. November bis 30. Dezember   \n",
              "1  Rathausplatz, 73728 Esslingen am Neckar  23. November bis 22. Dezember   \n",
              "2               74072 Heilbronn-Innenstadt  25. November bis 22. Dezember   \n",
              "3              75172 Pforzheim, Innenstadt  22. November bis 22. Dezember   \n",
              "4               Am Markt 1, 72070 Tübingen   30. November bis 5. Dezember   \n",
              "\n",
              "                                           Öffnungsz  \\\n",
              "0  • Montag bis Donnerstag: 10 bis 21 Uhr\\n• Frei...   \n",
              "1  •Eröffnungstag: 16 bis 20 Uhr \\n•Sonntag bis D...   \n",
              "2  • Montag bis Freitag: 13 bis 20 Uhr\\n• Samstag...   \n",
              "3                               Täglich 12 bis 20Uhr   \n",
              "4  • Täglich 10 bis 20 Uhr • 30. November: 13 bis...   \n",
              "\n",
              "                                          Corona-Reg  \\\n",
              "0  • 2G-Regel und Maskenpflicht auf dem gesamten ...   \n",
              "1  • Wenn Ihr direkt vor Ort Essen und Trinken wo...   \n",
              "2  • Der Zugang zu rund 70 Ständen in der Fußgäng...   \n",
              "3  • Der Markt ist grundsätzlich frei zugänglich....   \n",
              "4  Details sollen bis zum 25. November bekannt ge...   \n",
              "\n",
              "                                          Beschreibu  \\\n",
              "0  Der Weihnachtsmarkt findet in diesem Jahr stat...   \n",
              "1  Als einer der bekanntesten Weihnachtsmärkte in...   \n",
              "2  Besonderes Highlight für Familien in diesem Ja...   \n",
              "3  Hingucker ist die 20 Meter hohe Engels-Pyramid...   \n",
              "4  Schokodurft in Tübingens Altstadt - hier bekom...   \n",
              "\n",
              "                                             Website  Country  \\\n",
              "0  https://www.stuttgarter-weihnachtsmarkt.de/de/...  Germany   \n",
              "1  https://www.esslingen-marketing.de/weihnachtsm...  Germany   \n",
              "2  https://www.heilbronn.de/tourismus/veranstaltu...  Germany   \n",
              "3  https://www.ws-pforzheim.de/standortmarketing/...  Germany   \n",
              "4                          https://www.chocolart.de/  Germany   \n",
              "\n",
              "                          locations       lon        lat  \n",
              "0           (9.1774918, 48.7748156)  9.177492  48.774816  \n",
              "1           (9.3076275, 48.7423018)  9.307628  48.742302  \n",
              "2           (9.2186679, 49.1388695)  9.218668  49.138869  \n",
              "3           (8.7031594, 48.8908573)  8.703159  48.890857  \n",
              "4  (9.053101781543864, 48.52035445)  9.053102  48.520354  "
            ]
          },
          "execution_count": 6,
          "metadata": {},
          "output_type": "execute_result"
        }
      ],
      "source": [
        "df['locations'] = df['address'].apply(geocoding)\n",
        "df[['lon','lat']] = pd.DataFrame(df['locations'].tolist(),\n",
        "                                 index=df.index)\n",
        "df.head()"
      ]
    },
    {
      "cell_type": "markdown",
      "metadata": {
        "id": "V9dNbohJK1dR"
      },
      "source": [
        "# optional"
      ]
    },
    {
      "cell_type": "code",
      "execution_count": 7,
      "metadata": {
        "colab": {
          "base_uri": "https://localhost:8080/",
          "height": 542
        },
        "id": "1G7-dvBEKnkR",
        "outputId": "b2fdb4a5-ccfc-406c-b9c2-00833571e8e9"
      },
      "outputs": [
        {
          "data": {
            "application/vnd.plotly.v1+json": {
              "config": {
                "plotlyServerURL": "https://plot.ly"
              },
              "data": [
                {
                  "geo": "geo",
                  "hovertemplate": "<b>%{hovertext}</b><br><br>lat=%{lat}<br>lon=%{lon}<extra></extra>",
                  "hovertext": [
                    "Marktplatz 1, 70173 Stuttgart",
                    "Rathausplatz, 73728 Esslingen am Neckar",
                    "74072 Heilbronn-Innenstadt",
                    "75172 Pforzheim, Innenstadt",
                    "Am Markt 1, 72070 Tübingen",
                    "Am Markt 1, 72070 Tübingen",
                    "Marktplatz, 71634 Ludwigsburg",
                    "Rathausplatz, 79098 Freiburg im Breisgau",
                    "Marktplatz, 76133 Karlsruhe",
                    "Münsterplatz, 89073 Ulm",
                    "Weibermarkt, 72764 Reutlingen",
                    "Marktplatz, 73033 Göppingen",
                    "Friedrichsplatz, 78628 Rottweil",
                    "Marktplatz, 73525 Schwäbisch Gmünd"
                  ],
                  "lat": [
                    48.7748156,
                    48.7423018,
                    49.1388695,
                    48.8908573,
                    48.52035445,
                    48.52035445,
                    48.8974098,
                    47.996169550000005,
                    49.008946550000005,
                    48.398336900000004,
                    48.4911988,
                    48.703135950000004,
                    48.1682676,
                    48.7997985
                  ],
                  "legendgroup": "",
                  "lon": [
                    9.1774918,
                    9.3076275,
                    9.2186679,
                    8.7031594,
                    9.053101781543864,
                    9.053101781543864,
                    9.191262063106585,
                    7.849596929638556,
                    8.403878723529111,
                    9.991038228313956,
                    9.2130896,
                    9.65411582933139,
                    8.6269453,
                    9.7982176
                  ],
                  "marker": {
                    "color": "#636efa",
                    "symbol": "circle"
                  },
                  "mode": "markers",
                  "name": "",
                  "showlegend": false,
                  "type": "scattergeo"
                }
              ],
              "layout": {
                "geo": {
                  "center": {},
                  "domain": {
                    "x": [
                      0,
                      1
                    ],
                    "y": [
                      0,
                      1
                    ]
                  }
                },
                "legend": {
                  "tracegroupgap": 0
                },
                "margin": {
                  "t": 60
                },
                "template": {
                  "data": {
                    "bar": [
                      {
                        "error_x": {
                          "color": "#2a3f5f"
                        },
                        "error_y": {
                          "color": "#2a3f5f"
                        },
                        "marker": {
                          "line": {
                            "color": "#E5ECF6",
                            "width": 0.5
                          },
                          "pattern": {
                            "fillmode": "overlay",
                            "size": 10,
                            "solidity": 0.2
                          }
                        },
                        "type": "bar"
                      }
                    ],
                    "barpolar": [
                      {
                        "marker": {
                          "line": {
                            "color": "#E5ECF6",
                            "width": 0.5
                          },
                          "pattern": {
                            "fillmode": "overlay",
                            "size": 10,
                            "solidity": 0.2
                          }
                        },
                        "type": "barpolar"
                      }
                    ],
                    "carpet": [
                      {
                        "aaxis": {
                          "endlinecolor": "#2a3f5f",
                          "gridcolor": "white",
                          "linecolor": "white",
                          "minorgridcolor": "white",
                          "startlinecolor": "#2a3f5f"
                        },
                        "baxis": {
                          "endlinecolor": "#2a3f5f",
                          "gridcolor": "white",
                          "linecolor": "white",
                          "minorgridcolor": "white",
                          "startlinecolor": "#2a3f5f"
                        },
                        "type": "carpet"
                      }
                    ],
                    "choropleth": [
                      {
                        "colorbar": {
                          "outlinewidth": 0,
                          "ticks": ""
                        },
                        "type": "choropleth"
                      }
                    ],
                    "contour": [
                      {
                        "colorbar": {
                          "outlinewidth": 0,
                          "ticks": ""
                        },
                        "colorscale": [
                          [
                            0,
                            "#0d0887"
                          ],
                          [
                            0.1111111111111111,
                            "#46039f"
                          ],
                          [
                            0.2222222222222222,
                            "#7201a8"
                          ],
                          [
                            0.3333333333333333,
                            "#9c179e"
                          ],
                          [
                            0.4444444444444444,
                            "#bd3786"
                          ],
                          [
                            0.5555555555555556,
                            "#d8576b"
                          ],
                          [
                            0.6666666666666666,
                            "#ed7953"
                          ],
                          [
                            0.7777777777777778,
                            "#fb9f3a"
                          ],
                          [
                            0.8888888888888888,
                            "#fdca26"
                          ],
                          [
                            1,
                            "#f0f921"
                          ]
                        ],
                        "type": "contour"
                      }
                    ],
                    "contourcarpet": [
                      {
                        "colorbar": {
                          "outlinewidth": 0,
                          "ticks": ""
                        },
                        "type": "contourcarpet"
                      }
                    ],
                    "heatmap": [
                      {
                        "colorbar": {
                          "outlinewidth": 0,
                          "ticks": ""
                        },
                        "colorscale": [
                          [
                            0,
                            "#0d0887"
                          ],
                          [
                            0.1111111111111111,
                            "#46039f"
                          ],
                          [
                            0.2222222222222222,
                            "#7201a8"
                          ],
                          [
                            0.3333333333333333,
                            "#9c179e"
                          ],
                          [
                            0.4444444444444444,
                            "#bd3786"
                          ],
                          [
                            0.5555555555555556,
                            "#d8576b"
                          ],
                          [
                            0.6666666666666666,
                            "#ed7953"
                          ],
                          [
                            0.7777777777777778,
                            "#fb9f3a"
                          ],
                          [
                            0.8888888888888888,
                            "#fdca26"
                          ],
                          [
                            1,
                            "#f0f921"
                          ]
                        ],
                        "type": "heatmap"
                      }
                    ],
                    "heatmapgl": [
                      {
                        "colorbar": {
                          "outlinewidth": 0,
                          "ticks": ""
                        },
                        "colorscale": [
                          [
                            0,
                            "#0d0887"
                          ],
                          [
                            0.1111111111111111,
                            "#46039f"
                          ],
                          [
                            0.2222222222222222,
                            "#7201a8"
                          ],
                          [
                            0.3333333333333333,
                            "#9c179e"
                          ],
                          [
                            0.4444444444444444,
                            "#bd3786"
                          ],
                          [
                            0.5555555555555556,
                            "#d8576b"
                          ],
                          [
                            0.6666666666666666,
                            "#ed7953"
                          ],
                          [
                            0.7777777777777778,
                            "#fb9f3a"
                          ],
                          [
                            0.8888888888888888,
                            "#fdca26"
                          ],
                          [
                            1,
                            "#f0f921"
                          ]
                        ],
                        "type": "heatmapgl"
                      }
                    ],
                    "histogram": [
                      {
                        "marker": {
                          "pattern": {
                            "fillmode": "overlay",
                            "size": 10,
                            "solidity": 0.2
                          }
                        },
                        "type": "histogram"
                      }
                    ],
                    "histogram2d": [
                      {
                        "colorbar": {
                          "outlinewidth": 0,
                          "ticks": ""
                        },
                        "colorscale": [
                          [
                            0,
                            "#0d0887"
                          ],
                          [
                            0.1111111111111111,
                            "#46039f"
                          ],
                          [
                            0.2222222222222222,
                            "#7201a8"
                          ],
                          [
                            0.3333333333333333,
                            "#9c179e"
                          ],
                          [
                            0.4444444444444444,
                            "#bd3786"
                          ],
                          [
                            0.5555555555555556,
                            "#d8576b"
                          ],
                          [
                            0.6666666666666666,
                            "#ed7953"
                          ],
                          [
                            0.7777777777777778,
                            "#fb9f3a"
                          ],
                          [
                            0.8888888888888888,
                            "#fdca26"
                          ],
                          [
                            1,
                            "#f0f921"
                          ]
                        ],
                        "type": "histogram2d"
                      }
                    ],
                    "histogram2dcontour": [
                      {
                        "colorbar": {
                          "outlinewidth": 0,
                          "ticks": ""
                        },
                        "colorscale": [
                          [
                            0,
                            "#0d0887"
                          ],
                          [
                            0.1111111111111111,
                            "#46039f"
                          ],
                          [
                            0.2222222222222222,
                            "#7201a8"
                          ],
                          [
                            0.3333333333333333,
                            "#9c179e"
                          ],
                          [
                            0.4444444444444444,
                            "#bd3786"
                          ],
                          [
                            0.5555555555555556,
                            "#d8576b"
                          ],
                          [
                            0.6666666666666666,
                            "#ed7953"
                          ],
                          [
                            0.7777777777777778,
                            "#fb9f3a"
                          ],
                          [
                            0.8888888888888888,
                            "#fdca26"
                          ],
                          [
                            1,
                            "#f0f921"
                          ]
                        ],
                        "type": "histogram2dcontour"
                      }
                    ],
                    "mesh3d": [
                      {
                        "colorbar": {
                          "outlinewidth": 0,
                          "ticks": ""
                        },
                        "type": "mesh3d"
                      }
                    ],
                    "parcoords": [
                      {
                        "line": {
                          "colorbar": {
                            "outlinewidth": 0,
                            "ticks": ""
                          }
                        },
                        "type": "parcoords"
                      }
                    ],
                    "pie": [
                      {
                        "automargin": true,
                        "type": "pie"
                      }
                    ],
                    "scatter": [
                      {
                        "fillpattern": {
                          "fillmode": "overlay",
                          "size": 10,
                          "solidity": 0.2
                        },
                        "type": "scatter"
                      }
                    ],
                    "scatter3d": [
                      {
                        "line": {
                          "colorbar": {
                            "outlinewidth": 0,
                            "ticks": ""
                          }
                        },
                        "marker": {
                          "colorbar": {
                            "outlinewidth": 0,
                            "ticks": ""
                          }
                        },
                        "type": "scatter3d"
                      }
                    ],
                    "scattercarpet": [
                      {
                        "marker": {
                          "colorbar": {
                            "outlinewidth": 0,
                            "ticks": ""
                          }
                        },
                        "type": "scattercarpet"
                      }
                    ],
                    "scattergeo": [
                      {
                        "marker": {
                          "colorbar": {
                            "outlinewidth": 0,
                            "ticks": ""
                          }
                        },
                        "type": "scattergeo"
                      }
                    ],
                    "scattergl": [
                      {
                        "marker": {
                          "colorbar": {
                            "outlinewidth": 0,
                            "ticks": ""
                          }
                        },
                        "type": "scattergl"
                      }
                    ],
                    "scattermapbox": [
                      {
                        "marker": {
                          "colorbar": {
                            "outlinewidth": 0,
                            "ticks": ""
                          }
                        },
                        "type": "scattermapbox"
                      }
                    ],
                    "scatterpolar": [
                      {
                        "marker": {
                          "colorbar": {
                            "outlinewidth": 0,
                            "ticks": ""
                          }
                        },
                        "type": "scatterpolar"
                      }
                    ],
                    "scatterpolargl": [
                      {
                        "marker": {
                          "colorbar": {
                            "outlinewidth": 0,
                            "ticks": ""
                          }
                        },
                        "type": "scatterpolargl"
                      }
                    ],
                    "scatterternary": [
                      {
                        "marker": {
                          "colorbar": {
                            "outlinewidth": 0,
                            "ticks": ""
                          }
                        },
                        "type": "scatterternary"
                      }
                    ],
                    "surface": [
                      {
                        "colorbar": {
                          "outlinewidth": 0,
                          "ticks": ""
                        },
                        "colorscale": [
                          [
                            0,
                            "#0d0887"
                          ],
                          [
                            0.1111111111111111,
                            "#46039f"
                          ],
                          [
                            0.2222222222222222,
                            "#7201a8"
                          ],
                          [
                            0.3333333333333333,
                            "#9c179e"
                          ],
                          [
                            0.4444444444444444,
                            "#bd3786"
                          ],
                          [
                            0.5555555555555556,
                            "#d8576b"
                          ],
                          [
                            0.6666666666666666,
                            "#ed7953"
                          ],
                          [
                            0.7777777777777778,
                            "#fb9f3a"
                          ],
                          [
                            0.8888888888888888,
                            "#fdca26"
                          ],
                          [
                            1,
                            "#f0f921"
                          ]
                        ],
                        "type": "surface"
                      }
                    ],
                    "table": [
                      {
                        "cells": {
                          "fill": {
                            "color": "#EBF0F8"
                          },
                          "line": {
                            "color": "white"
                          }
                        },
                        "header": {
                          "fill": {
                            "color": "#C8D4E3"
                          },
                          "line": {
                            "color": "white"
                          }
                        },
                        "type": "table"
                      }
                    ]
                  },
                  "layout": {
                    "annotationdefaults": {
                      "arrowcolor": "#2a3f5f",
                      "arrowhead": 0,
                      "arrowwidth": 1
                    },
                    "autotypenumbers": "strict",
                    "coloraxis": {
                      "colorbar": {
                        "outlinewidth": 0,
                        "ticks": ""
                      }
                    },
                    "colorscale": {
                      "diverging": [
                        [
                          0,
                          "#8e0152"
                        ],
                        [
                          0.1,
                          "#c51b7d"
                        ],
                        [
                          0.2,
                          "#de77ae"
                        ],
                        [
                          0.3,
                          "#f1b6da"
                        ],
                        [
                          0.4,
                          "#fde0ef"
                        ],
                        [
                          0.5,
                          "#f7f7f7"
                        ],
                        [
                          0.6,
                          "#e6f5d0"
                        ],
                        [
                          0.7,
                          "#b8e186"
                        ],
                        [
                          0.8,
                          "#7fbc41"
                        ],
                        [
                          0.9,
                          "#4d9221"
                        ],
                        [
                          1,
                          "#276419"
                        ]
                      ],
                      "sequential": [
                        [
                          0,
                          "#0d0887"
                        ],
                        [
                          0.1111111111111111,
                          "#46039f"
                        ],
                        [
                          0.2222222222222222,
                          "#7201a8"
                        ],
                        [
                          0.3333333333333333,
                          "#9c179e"
                        ],
                        [
                          0.4444444444444444,
                          "#bd3786"
                        ],
                        [
                          0.5555555555555556,
                          "#d8576b"
                        ],
                        [
                          0.6666666666666666,
                          "#ed7953"
                        ],
                        [
                          0.7777777777777778,
                          "#fb9f3a"
                        ],
                        [
                          0.8888888888888888,
                          "#fdca26"
                        ],
                        [
                          1,
                          "#f0f921"
                        ]
                      ],
                      "sequentialminus": [
                        [
                          0,
                          "#0d0887"
                        ],
                        [
                          0.1111111111111111,
                          "#46039f"
                        ],
                        [
                          0.2222222222222222,
                          "#7201a8"
                        ],
                        [
                          0.3333333333333333,
                          "#9c179e"
                        ],
                        [
                          0.4444444444444444,
                          "#bd3786"
                        ],
                        [
                          0.5555555555555556,
                          "#d8576b"
                        ],
                        [
                          0.6666666666666666,
                          "#ed7953"
                        ],
                        [
                          0.7777777777777778,
                          "#fb9f3a"
                        ],
                        [
                          0.8888888888888888,
                          "#fdca26"
                        ],
                        [
                          1,
                          "#f0f921"
                        ]
                      ]
                    },
                    "colorway": [
                      "#636efa",
                      "#EF553B",
                      "#00cc96",
                      "#ab63fa",
                      "#FFA15A",
                      "#19d3f3",
                      "#FF6692",
                      "#B6E880",
                      "#FF97FF",
                      "#FECB52"
                    ],
                    "font": {
                      "color": "#2a3f5f"
                    },
                    "geo": {
                      "bgcolor": "white",
                      "lakecolor": "white",
                      "landcolor": "#E5ECF6",
                      "showlakes": true,
                      "showland": true,
                      "subunitcolor": "white"
                    },
                    "hoverlabel": {
                      "align": "left"
                    },
                    "hovermode": "closest",
                    "mapbox": {
                      "style": "light"
                    },
                    "paper_bgcolor": "white",
                    "plot_bgcolor": "#E5ECF6",
                    "polar": {
                      "angularaxis": {
                        "gridcolor": "white",
                        "linecolor": "white",
                        "ticks": ""
                      },
                      "bgcolor": "#E5ECF6",
                      "radialaxis": {
                        "gridcolor": "white",
                        "linecolor": "white",
                        "ticks": ""
                      }
                    },
                    "scene": {
                      "xaxis": {
                        "backgroundcolor": "#E5ECF6",
                        "gridcolor": "white",
                        "gridwidth": 2,
                        "linecolor": "white",
                        "showbackground": true,
                        "ticks": "",
                        "zerolinecolor": "white"
                      },
                      "yaxis": {
                        "backgroundcolor": "#E5ECF6",
                        "gridcolor": "white",
                        "gridwidth": 2,
                        "linecolor": "white",
                        "showbackground": true,
                        "ticks": "",
                        "zerolinecolor": "white"
                      },
                      "zaxis": {
                        "backgroundcolor": "#E5ECF6",
                        "gridcolor": "white",
                        "gridwidth": 2,
                        "linecolor": "white",
                        "showbackground": true,
                        "ticks": "",
                        "zerolinecolor": "white"
                      }
                    },
                    "shapedefaults": {
                      "line": {
                        "color": "#2a3f5f"
                      }
                    },
                    "ternary": {
                      "aaxis": {
                        "gridcolor": "white",
                        "linecolor": "white",
                        "ticks": ""
                      },
                      "baxis": {
                        "gridcolor": "white",
                        "linecolor": "white",
                        "ticks": ""
                      },
                      "bgcolor": "#E5ECF6",
                      "caxis": {
                        "gridcolor": "white",
                        "linecolor": "white",
                        "ticks": ""
                      }
                    },
                    "title": {
                      "x": 0.05
                    },
                    "xaxis": {
                      "automargin": true,
                      "gridcolor": "white",
                      "linecolor": "white",
                      "ticks": "",
                      "title": {
                        "standoff": 15
                      },
                      "zerolinecolor": "white",
                      "zerolinewidth": 2
                    },
                    "yaxis": {
                      "automargin": true,
                      "gridcolor": "white",
                      "linecolor": "white",
                      "ticks": "",
                      "title": {
                        "standoff": 15
                      },
                      "zerolinecolor": "white",
                      "zerolinewidth": 2
                    }
                  }
                },
                "title": {
                  "text": "World map",
                  "x": 0.5
                }
              }
            }
          },
          "metadata": {},
          "output_type": "display_data"
        }
      ],
      "source": [
        "import plotly.express as px\n",
        "import pandas as pd\n",
        "fig = px.scatter_geo(df,lat='lat',lon='lon', hover_name=\"address\")\n",
        "fig.update_layout(title = 'World map', title_x=0.5)\n",
        "fig.show()"
      ]
    },
    {
      "cell_type": "code",
      "execution_count": null,
      "metadata": {
        "id": "pLM6R8n9LhLa"
      },
      "outputs": [],
      "source": []
    }
  ],
  "metadata": {
    "colab": {
      "name": "Task 5 (Geo Data)_new.ipynb",
      "provenance": []
    },
    "kernelspec": {
      "display_name": "Python 3",
      "name": "python3"
    },
    "language_info": {
      "codemirror_mode": {
        "name": "ipython",
        "version": 3
      },
      "file_extension": ".py",
      "mimetype": "text/x-python",
      "name": "python",
      "nbconvert_exporter": "python",
      "pygments_lexer": "ipython3",
      "version": "3.11.3"
    }
  },
  "nbformat": 4,
  "nbformat_minor": 0
}
