{
 "cells": [
  {
   "cell_type": "markdown",
   "metadata": {},
   "source": [
    "> (Enron_email_threads_updated) Dataset\n",
    "\n",
    "# you are working for a company that handling emails so your manager askes you to see the most domain that recieves emails \n",
    "\n",
    "# the recived mail must has \"TO\" in column Type , not CC or BCC , so make sure to filter with this column first and clean its values with string operations for better filter\n"
   ]
  },
  {
   "cell_type": "markdown",
   "metadata": {},
   "source": [
    "> use sep , encoding parameters in read_csv()"
   ]
  },
  {
   "cell_type": "code",
   "execution_count": 1,
   "metadata": {},
   "outputs": [],
   "source": [
    "import pandas as pd\n",
    "df = pd.read_csv(r'D:\\COURSES\\AI\\Epsilon Ai\\Session 25\\Assigment\\datasets\\Enron_email_threads_updated.csv',encoding=\"utf_16\",sep='\\t')"
   ]
  },
  {
   "cell_type": "code",
   "execution_count": 2,
   "metadata": {},
   "outputs": [
    {
     "data": {
      "text/html": [
       "<div>\n",
       "<style scoped>\n",
       "    .dataframe tbody tr th:only-of-type {\n",
       "        vertical-align: middle;\n",
       "    }\n",
       "\n",
       "    .dataframe tbody tr th {\n",
       "        vertical-align: top;\n",
       "    }\n",
       "\n",
       "    .dataframe thead th {\n",
       "        text-align: right;\n",
       "    }\n",
       "</style>\n",
       "<table border=\"1\" class=\"dataframe\">\n",
       "  <thead>\n",
       "    <tr style=\"text-align: right;\">\n",
       "      <th></th>\n",
       "      <th>TID</th>\n",
       "      <th>MID</th>\n",
       "      <th>From</th>\n",
       "      <th>TO</th>\n",
       "      <th>Timestamp</th>\n",
       "      <th>Type</th>\n",
       "    </tr>\n",
       "  </thead>\n",
       "  <tbody>\n",
       "    <tr>\n",
       "      <th>0</th>\n",
       "      <td>155a74d0930df40c</td>\n",
       "      <td>e9c42ba707f5e84</td>\n",
       "      <td>mark.whitt@enron.com</td>\n",
       "      <td>heidi.dubose@enron.com</td>\n",
       "      <td>2001-10-25T07:02:55-07:00</td>\n",
       "      <td>TO</td>\n",
       "    </tr>\n",
       "    <tr>\n",
       "      <th>1</th>\n",
       "      <td>155a01503aaa94d2</td>\n",
       "      <td>ea7d7b79039db9c</td>\n",
       "      <td>barry.tycholiz@enron.com</td>\n",
       "      <td>jessica.presas@enron.com</td>\n",
       "      <td>2001-11-30T05:39:51-08:00</td>\n",
       "      <td>TO</td>\n",
       "    </tr>\n",
       "    <tr>\n",
       "      <th>2</th>\n",
       "      <td>155a0146556ac9cb</td>\n",
       "      <td>e9e418ca9b8987a</td>\n",
       "      <td>barry.tycholiz@enron.com</td>\n",
       "      <td>stephanie.miller@enron.com</td>\n",
       "      <td>2001-10-31T10:50:10-08:00</td>\n",
       "      <td>TO</td>\n",
       "    </tr>\n",
       "    <tr>\n",
       "      <th>3</th>\n",
       "      <td>1559a0a82828c7c9</td>\n",
       "      <td>ea57a25b4ab0621</td>\n",
       "      <td>enron_update@concureworkplace.com</td>\n",
       "      <td>s..shively@enron.com</td>\n",
       "      <td>2001-11-22T21:16:45-08:00</td>\n",
       "      <td>TO</td>\n",
       "    </tr>\n",
       "    <tr>\n",
       "      <th>4</th>\n",
       "      <td>1559a0a82828c7c9</td>\n",
       "      <td>ea57a247904c8e9</td>\n",
       "      <td>enron_update@concureworkplace.com</td>\n",
       "      <td>jsteffe@enron.com</td>\n",
       "      <td>2001-11-22T21:16:40-08:00</td>\n",
       "      <td>TO</td>\n",
       "    </tr>\n",
       "    <tr>\n",
       "      <th>...</th>\n",
       "      <td>...</td>\n",
       "      <td>...</td>\n",
       "      <td>...</td>\n",
       "      <td>...</td>\n",
       "      <td>...</td>\n",
       "      <td>...</td>\n",
       "    </tr>\n",
       "    <tr>\n",
       "      <th>471869</th>\n",
       "      <td>eb1188617718448</td>\n",
       "      <td>eb1188617718448</td>\n",
       "      <td>pete.davis@enron.com</td>\n",
       "      <td>pete.davis@enron.com</td>\n",
       "      <td>2001-12-28T23:37:45-08:00</td>\n",
       "      <td>TO</td>\n",
       "    </tr>\n",
       "    <tr>\n",
       "      <th>471870</th>\n",
       "      <td>eb1188617718448</td>\n",
       "      <td>eb1188617718448</td>\n",
       "      <td>pete.davis@enron.com</td>\n",
       "      <td>pete.davis@enron.com</td>\n",
       "      <td>2001-12-28T23:37:45-08:00</td>\n",
       "      <td>CC</td>\n",
       "    </tr>\n",
       "    <tr>\n",
       "      <th>471871</th>\n",
       "      <td>eb1188617718448</td>\n",
       "      <td>eb1188617718448</td>\n",
       "      <td>pete.davis@enron.com</td>\n",
       "      <td>pete.davis@enron.com</td>\n",
       "      <td>2001-12-28T23:37:45-08:00</td>\n",
       "      <td>BCC</td>\n",
       "    </tr>\n",
       "    <tr>\n",
       "      <th>471872</th>\n",
       "      <td>eb1188617718448</td>\n",
       "      <td>eb1188617718448</td>\n",
       "      <td>pete.davis@enron.com</td>\n",
       "      <td>ryan.slinger@enron.com</td>\n",
       "      <td>2001-12-28T23:37:45-08:00</td>\n",
       "      <td>CC</td>\n",
       "    </tr>\n",
       "    <tr>\n",
       "      <th>471873</th>\n",
       "      <td>eb1188617718448</td>\n",
       "      <td>eb1188617718448</td>\n",
       "      <td>pete.davis@enron.com</td>\n",
       "      <td>ryan.slinger@enron.com</td>\n",
       "      <td>2001-12-28T23:37:45-08:00</td>\n",
       "      <td>BCC</td>\n",
       "    </tr>\n",
       "  </tbody>\n",
       "</table>\n",
       "<p>471874 rows × 6 columns</p>\n",
       "</div>"
      ],
      "text/plain": [
       "                     TID              MID                               From  \\\n",
       "0       155a74d0930df40c  e9c42ba707f5e84               mark.whitt@enron.com   \n",
       "1       155a01503aaa94d2  ea7d7b79039db9c           barry.tycholiz@enron.com   \n",
       "2       155a0146556ac9cb  e9e418ca9b8987a           barry.tycholiz@enron.com   \n",
       "3       1559a0a82828c7c9  ea57a25b4ab0621  enron_update@concureworkplace.com   \n",
       "4       1559a0a82828c7c9  ea57a247904c8e9  enron_update@concureworkplace.com   \n",
       "...                  ...              ...                                ...   \n",
       "471869   eb1188617718448  eb1188617718448               pete.davis@enron.com   \n",
       "471870   eb1188617718448  eb1188617718448               pete.davis@enron.com   \n",
       "471871   eb1188617718448  eb1188617718448               pete.davis@enron.com   \n",
       "471872   eb1188617718448  eb1188617718448               pete.davis@enron.com   \n",
       "471873   eb1188617718448  eb1188617718448               pete.davis@enron.com   \n",
       "\n",
       "                                TO                  Timestamp Type  \n",
       "0           heidi.dubose@enron.com  2001-10-25T07:02:55-07:00   TO  \n",
       "1         jessica.presas@enron.com  2001-11-30T05:39:51-08:00   TO  \n",
       "2       stephanie.miller@enron.com  2001-10-31T10:50:10-08:00   TO  \n",
       "3             s..shively@enron.com  2001-11-22T21:16:45-08:00   TO  \n",
       "4                jsteffe@enron.com  2001-11-22T21:16:40-08:00   TO  \n",
       "...                            ...                        ...  ...  \n",
       "471869        pete.davis@enron.com  2001-12-28T23:37:45-08:00   TO  \n",
       "471870        pete.davis@enron.com  2001-12-28T23:37:45-08:00   CC  \n",
       "471871        pete.davis@enron.com  2001-12-28T23:37:45-08:00  BCC  \n",
       "471872      ryan.slinger@enron.com  2001-12-28T23:37:45-08:00   CC  \n",
       "471873      ryan.slinger@enron.com  2001-12-28T23:37:45-08:00  BCC  \n",
       "\n",
       "[471874 rows x 6 columns]"
      ]
     },
     "execution_count": 2,
     "metadata": {},
     "output_type": "execute_result"
    }
   ],
   "source": [
    "df"
   ]
  },
  {
   "cell_type": "code",
   "execution_count": 3,
   "metadata": {},
   "outputs": [
    {
     "data": {
      "text/html": [
       "<div>\n",
       "<style scoped>\n",
       "    .dataframe tbody tr th:only-of-type {\n",
       "        vertical-align: middle;\n",
       "    }\n",
       "\n",
       "    .dataframe tbody tr th {\n",
       "        vertical-align: top;\n",
       "    }\n",
       "\n",
       "    .dataframe thead th {\n",
       "        text-align: right;\n",
       "    }\n",
       "</style>\n",
       "<table border=\"1\" class=\"dataframe\">\n",
       "  <thead>\n",
       "    <tr style=\"text-align: right;\">\n",
       "      <th></th>\n",
       "      <th>TID</th>\n",
       "      <th>MID</th>\n",
       "      <th>From</th>\n",
       "      <th>TO</th>\n",
       "      <th>Timestamp</th>\n",
       "      <th>Type</th>\n",
       "    </tr>\n",
       "  </thead>\n",
       "  <tbody>\n",
       "    <tr>\n",
       "      <th>0</th>\n",
       "      <td>155a74d0930df40c</td>\n",
       "      <td>e9c42ba707f5e84</td>\n",
       "      <td>mark.whitt@enron.com</td>\n",
       "      <td>heidi.dubose@enron.com</td>\n",
       "      <td>2001-10-25T07:02:55-07:00</td>\n",
       "      <td>TO</td>\n",
       "    </tr>\n",
       "    <tr>\n",
       "      <th>1</th>\n",
       "      <td>155a01503aaa94d2</td>\n",
       "      <td>ea7d7b79039db9c</td>\n",
       "      <td>barry.tycholiz@enron.com</td>\n",
       "      <td>jessica.presas@enron.com</td>\n",
       "      <td>2001-11-30T05:39:51-08:00</td>\n",
       "      <td>TO</td>\n",
       "    </tr>\n",
       "    <tr>\n",
       "      <th>2</th>\n",
       "      <td>155a0146556ac9cb</td>\n",
       "      <td>e9e418ca9b8987a</td>\n",
       "      <td>barry.tycholiz@enron.com</td>\n",
       "      <td>stephanie.miller@enron.com</td>\n",
       "      <td>2001-10-31T10:50:10-08:00</td>\n",
       "      <td>TO</td>\n",
       "    </tr>\n",
       "    <tr>\n",
       "      <th>3</th>\n",
       "      <td>1559a0a82828c7c9</td>\n",
       "      <td>ea57a25b4ab0621</td>\n",
       "      <td>enron_update@concureworkplace.com</td>\n",
       "      <td>s..shively@enron.com</td>\n",
       "      <td>2001-11-22T21:16:45-08:00</td>\n",
       "      <td>TO</td>\n",
       "    </tr>\n",
       "    <tr>\n",
       "      <th>4</th>\n",
       "      <td>1559a0a82828c7c9</td>\n",
       "      <td>ea57a247904c8e9</td>\n",
       "      <td>enron_update@concureworkplace.com</td>\n",
       "      <td>jsteffe@enron.com</td>\n",
       "      <td>2001-11-22T21:16:40-08:00</td>\n",
       "      <td>TO</td>\n",
       "    </tr>\n",
       "  </tbody>\n",
       "</table>\n",
       "</div>"
      ],
      "text/plain": [
       "                TID              MID                               From  \\\n",
       "0  155a74d0930df40c  e9c42ba707f5e84               mark.whitt@enron.com   \n",
       "1  155a01503aaa94d2  ea7d7b79039db9c           barry.tycholiz@enron.com   \n",
       "2  155a0146556ac9cb  e9e418ca9b8987a           barry.tycholiz@enron.com   \n",
       "3  1559a0a82828c7c9  ea57a25b4ab0621  enron_update@concureworkplace.com   \n",
       "4  1559a0a82828c7c9  ea57a247904c8e9  enron_update@concureworkplace.com   \n",
       "\n",
       "                           TO                  Timestamp Type  \n",
       "0      heidi.dubose@enron.com  2001-10-25T07:02:55-07:00   TO  \n",
       "1    jessica.presas@enron.com  2001-11-30T05:39:51-08:00   TO  \n",
       "2  stephanie.miller@enron.com  2001-10-31T10:50:10-08:00   TO  \n",
       "3        s..shively@enron.com  2001-11-22T21:16:45-08:00   TO  \n",
       "4           jsteffe@enron.com  2001-11-22T21:16:40-08:00   TO  "
      ]
     },
     "execution_count": 3,
     "metadata": {},
     "output_type": "execute_result"
    }
   ],
   "source": [
    "df.head()"
   ]
  },
  {
   "cell_type": "code",
   "execution_count": 4,
   "metadata": {},
   "outputs": [
    {
     "name": "stdout",
     "output_type": "stream",
     "text": [
      "<class 'pandas.core.frame.DataFrame'>\n",
      "RangeIndex: 471874 entries, 0 to 471873\n",
      "Data columns (total 6 columns):\n",
      " #   Column     Non-Null Count   Dtype \n",
      "---  ------     --------------   ----- \n",
      " 0   TID        471874 non-null  object\n",
      " 1   MID        471874 non-null  object\n",
      " 2   From       471874 non-null  object\n",
      " 3   TO         471872 non-null  object\n",
      " 4   Timestamp  471874 non-null  object\n",
      " 5   Type       471874 non-null  object\n",
      "dtypes: object(6)\n",
      "memory usage: 21.6+ MB\n"
     ]
    }
   ],
   "source": [
    "df.info()"
   ]
  },
  {
   "cell_type": "code",
   "execution_count": 5,
   "metadata": {},
   "outputs": [
    {
     "data": {
      "text/plain": [
       "TID          0\n",
       "MID          0\n",
       "From         0\n",
       "TO           2\n",
       "Timestamp    0\n",
       "Type         0\n",
       "dtype: int64"
      ]
     },
     "execution_count": 5,
     "metadata": {},
     "output_type": "execute_result"
    }
   ],
   "source": [
    "df.isna().sum()"
   ]
  },
  {
   "cell_type": "code",
   "execution_count": 6,
   "metadata": {},
   "outputs": [],
   "source": [
    "df.dropna(subset=['TO'],inplace=True)"
   ]
  },
  {
   "cell_type": "code",
   "execution_count": 7,
   "metadata": {},
   "outputs": [
    {
     "data": {
      "text/plain": [
       "TID          0\n",
       "MID          0\n",
       "From         0\n",
       "TO           0\n",
       "Timestamp    0\n",
       "Type         0\n",
       "dtype: int64"
      ]
     },
     "execution_count": 7,
     "metadata": {},
     "output_type": "execute_result"
    }
   ],
   "source": [
    "df.isna().sum()"
   ]
  },
  {
   "cell_type": "code",
   "execution_count": 8,
   "metadata": {},
   "outputs": [
    {
     "data": {
      "text/plain": [
       "Type\n",
       "TO      353404\n",
       "BCC      60160\n",
       "CC       58235\n",
       "TO\"         52\n",
       "BCC\"        14\n",
       "CC\"          7\n",
       "Name: count, dtype: int64"
      ]
     },
     "execution_count": 8,
     "metadata": {},
     "output_type": "execute_result"
    }
   ],
   "source": [
    "df.Type.value_counts()"
   ]
  },
  {
   "cell_type": "code",
   "execution_count": 9,
   "metadata": {},
   "outputs": [],
   "source": [
    "df.Type= df.Type.str.replace('\"','')"
   ]
  },
  {
   "cell_type": "code",
   "execution_count": 10,
   "metadata": {},
   "outputs": [
    {
     "data": {
      "text/plain": [
       "Type\n",
       "TO     353456\n",
       "BCC     60174\n",
       "CC      58242\n",
       "Name: count, dtype: int64"
      ]
     },
     "execution_count": 10,
     "metadata": {},
     "output_type": "execute_result"
    }
   ],
   "source": [
    "df.Type.value_counts()"
   ]
  },
  {
   "cell_type": "code",
   "execution_count": 11,
   "metadata": {},
   "outputs": [],
   "source": [
    "def extract_domain(email):\n",
    "  return email.split('@')[1]"
   ]
  },
  {
   "cell_type": "code",
   "execution_count": 12,
   "metadata": {},
   "outputs": [],
   "source": [
    "df['from_domain'] = df.From.apply(extract_domain)"
   ]
  },
  {
   "cell_type": "code",
   "execution_count": 13,
   "metadata": {},
   "outputs": [
    {
     "data": {
      "text/plain": [
       "Index(['TID', 'MID', 'From', 'TO', 'Timestamp', 'Type', 'from_domain'], dtype='object')"
      ]
     },
     "execution_count": 13,
     "metadata": {},
     "output_type": "execute_result"
    }
   ],
   "source": [
    "df.columns"
   ]
  },
  {
   "cell_type": "code",
   "execution_count": 20,
   "metadata": {},
   "outputs": [],
   "source": [
    "df['To'] = df.TO.apply(extract_domain)"
   ]
  },
  {
   "cell_type": "code",
   "execution_count": 15,
   "metadata": {},
   "outputs": [
    {
     "data": {
      "text/html": [
       "<div>\n",
       "<style scoped>\n",
       "    .dataframe tbody tr th:only-of-type {\n",
       "        vertical-align: middle;\n",
       "    }\n",
       "\n",
       "    .dataframe tbody tr th {\n",
       "        vertical-align: top;\n",
       "    }\n",
       "\n",
       "    .dataframe thead th {\n",
       "        text-align: right;\n",
       "    }\n",
       "</style>\n",
       "<table border=\"1\" class=\"dataframe\">\n",
       "  <thead>\n",
       "    <tr style=\"text-align: right;\">\n",
       "      <th></th>\n",
       "      <th>TID</th>\n",
       "      <th>MID</th>\n",
       "      <th>From</th>\n",
       "      <th>TO</th>\n",
       "      <th>Timestamp</th>\n",
       "      <th>Type</th>\n",
       "      <th>from_domain</th>\n",
       "    </tr>\n",
       "  </thead>\n",
       "  <tbody>\n",
       "    <tr>\n",
       "      <th>63386</th>\n",
       "      <td>e9b488982b35baa</td>\n",
       "      <td>e9b488982b35baa</td>\n",
       "      <td>david_nobles@ewingcc.com</td>\n",
       "      <td>&lt;p.&gt;</td>\n",
       "      <td>2001-10-22T06:10:31-07:00</td>\n",
       "      <td>BCC</td>\n",
       "      <td>ewingcc.com</td>\n",
       "    </tr>\n",
       "  </tbody>\n",
       "</table>\n",
       "</div>"
      ],
      "text/plain": [
       "                   TID              MID                      From    TO  \\\n",
       "63386  e9b488982b35baa  e9b488982b35baa  david_nobles@ewingcc.com  <p.>   \n",
       "\n",
       "                       Timestamp Type  from_domain  \n",
       "63386  2001-10-22T06:10:31-07:00  BCC  ewingcc.com  "
      ]
     },
     "execution_count": 15,
     "metadata": {},
     "output_type": "execute_result"
    }
   ],
   "source": [
    "df[~df.TO.str.contains('@')]"
   ]
  },
  {
   "cell_type": "code",
   "execution_count": 16,
   "metadata": {},
   "outputs": [],
   "source": [
    "df.drop(63386, axis=0, inplace=True)"
   ]
  },
  {
   "cell_type": "code",
   "execution_count": 17,
   "metadata": {},
   "outputs": [],
   "source": [
    "df['To_domain'] = df.TO.apply(extract_domain)"
   ]
  },
  {
   "cell_type": "code",
   "execution_count": 18,
   "metadata": {},
   "outputs": [
    {
     "data": {
      "text/html": [
       "<div>\n",
       "<style scoped>\n",
       "    .dataframe tbody tr th:only-of-type {\n",
       "        vertical-align: middle;\n",
       "    }\n",
       "\n",
       "    .dataframe tbody tr th {\n",
       "        vertical-align: top;\n",
       "    }\n",
       "\n",
       "    .dataframe thead th {\n",
       "        text-align: right;\n",
       "    }\n",
       "</style>\n",
       "<table border=\"1\" class=\"dataframe\">\n",
       "  <thead>\n",
       "    <tr style=\"text-align: right;\">\n",
       "      <th></th>\n",
       "      <th>TID</th>\n",
       "      <th>MID</th>\n",
       "      <th>From</th>\n",
       "      <th>TO</th>\n",
       "      <th>Timestamp</th>\n",
       "      <th>Type</th>\n",
       "      <th>from_domain</th>\n",
       "      <th>To_domain</th>\n",
       "    </tr>\n",
       "  </thead>\n",
       "  <tbody>\n",
       "    <tr>\n",
       "      <th>0</th>\n",
       "      <td>155a74d0930df40c</td>\n",
       "      <td>e9c42ba707f5e84</td>\n",
       "      <td>mark.whitt@enron.com</td>\n",
       "      <td>heidi.dubose@enron.com</td>\n",
       "      <td>2001-10-25T07:02:55-07:00</td>\n",
       "      <td>TO</td>\n",
       "      <td>enron.com</td>\n",
       "      <td>enron.com</td>\n",
       "    </tr>\n",
       "    <tr>\n",
       "      <th>1</th>\n",
       "      <td>155a01503aaa94d2</td>\n",
       "      <td>ea7d7b79039db9c</td>\n",
       "      <td>barry.tycholiz@enron.com</td>\n",
       "      <td>jessica.presas@enron.com</td>\n",
       "      <td>2001-11-30T05:39:51-08:00</td>\n",
       "      <td>TO</td>\n",
       "      <td>enron.com</td>\n",
       "      <td>enron.com</td>\n",
       "    </tr>\n",
       "    <tr>\n",
       "      <th>2</th>\n",
       "      <td>155a0146556ac9cb</td>\n",
       "      <td>e9e418ca9b8987a</td>\n",
       "      <td>barry.tycholiz@enron.com</td>\n",
       "      <td>stephanie.miller@enron.com</td>\n",
       "      <td>2001-10-31T10:50:10-08:00</td>\n",
       "      <td>TO</td>\n",
       "      <td>enron.com</td>\n",
       "      <td>enron.com</td>\n",
       "    </tr>\n",
       "    <tr>\n",
       "      <th>3</th>\n",
       "      <td>1559a0a82828c7c9</td>\n",
       "      <td>ea57a25b4ab0621</td>\n",
       "      <td>enron_update@concureworkplace.com</td>\n",
       "      <td>s..shively@enron.com</td>\n",
       "      <td>2001-11-22T21:16:45-08:00</td>\n",
       "      <td>TO</td>\n",
       "      <td>concureworkplace.com</td>\n",
       "      <td>enron.com</td>\n",
       "    </tr>\n",
       "    <tr>\n",
       "      <th>4</th>\n",
       "      <td>1559a0a82828c7c9</td>\n",
       "      <td>ea57a247904c8e9</td>\n",
       "      <td>enron_update@concureworkplace.com</td>\n",
       "      <td>jsteffe@enron.com</td>\n",
       "      <td>2001-11-22T21:16:40-08:00</td>\n",
       "      <td>TO</td>\n",
       "      <td>concureworkplace.com</td>\n",
       "      <td>enron.com</td>\n",
       "    </tr>\n",
       "    <tr>\n",
       "      <th>...</th>\n",
       "      <td>...</td>\n",
       "      <td>...</td>\n",
       "      <td>...</td>\n",
       "      <td>...</td>\n",
       "      <td>...</td>\n",
       "      <td>...</td>\n",
       "      <td>...</td>\n",
       "      <td>...</td>\n",
       "    </tr>\n",
       "    <tr>\n",
       "      <th>471869</th>\n",
       "      <td>eb1188617718448</td>\n",
       "      <td>eb1188617718448</td>\n",
       "      <td>pete.davis@enron.com</td>\n",
       "      <td>pete.davis@enron.com</td>\n",
       "      <td>2001-12-28T23:37:45-08:00</td>\n",
       "      <td>TO</td>\n",
       "      <td>enron.com</td>\n",
       "      <td>enron.com</td>\n",
       "    </tr>\n",
       "    <tr>\n",
       "      <th>471870</th>\n",
       "      <td>eb1188617718448</td>\n",
       "      <td>eb1188617718448</td>\n",
       "      <td>pete.davis@enron.com</td>\n",
       "      <td>pete.davis@enron.com</td>\n",
       "      <td>2001-12-28T23:37:45-08:00</td>\n",
       "      <td>CC</td>\n",
       "      <td>enron.com</td>\n",
       "      <td>enron.com</td>\n",
       "    </tr>\n",
       "    <tr>\n",
       "      <th>471871</th>\n",
       "      <td>eb1188617718448</td>\n",
       "      <td>eb1188617718448</td>\n",
       "      <td>pete.davis@enron.com</td>\n",
       "      <td>pete.davis@enron.com</td>\n",
       "      <td>2001-12-28T23:37:45-08:00</td>\n",
       "      <td>BCC</td>\n",
       "      <td>enron.com</td>\n",
       "      <td>enron.com</td>\n",
       "    </tr>\n",
       "    <tr>\n",
       "      <th>471872</th>\n",
       "      <td>eb1188617718448</td>\n",
       "      <td>eb1188617718448</td>\n",
       "      <td>pete.davis@enron.com</td>\n",
       "      <td>ryan.slinger@enron.com</td>\n",
       "      <td>2001-12-28T23:37:45-08:00</td>\n",
       "      <td>CC</td>\n",
       "      <td>enron.com</td>\n",
       "      <td>enron.com</td>\n",
       "    </tr>\n",
       "    <tr>\n",
       "      <th>471873</th>\n",
       "      <td>eb1188617718448</td>\n",
       "      <td>eb1188617718448</td>\n",
       "      <td>pete.davis@enron.com</td>\n",
       "      <td>ryan.slinger@enron.com</td>\n",
       "      <td>2001-12-28T23:37:45-08:00</td>\n",
       "      <td>BCC</td>\n",
       "      <td>enron.com</td>\n",
       "      <td>enron.com</td>\n",
       "    </tr>\n",
       "  </tbody>\n",
       "</table>\n",
       "<p>471871 rows × 8 columns</p>\n",
       "</div>"
      ],
      "text/plain": [
       "                     TID              MID                               From  \\\n",
       "0       155a74d0930df40c  e9c42ba707f5e84               mark.whitt@enron.com   \n",
       "1       155a01503aaa94d2  ea7d7b79039db9c           barry.tycholiz@enron.com   \n",
       "2       155a0146556ac9cb  e9e418ca9b8987a           barry.tycholiz@enron.com   \n",
       "3       1559a0a82828c7c9  ea57a25b4ab0621  enron_update@concureworkplace.com   \n",
       "4       1559a0a82828c7c9  ea57a247904c8e9  enron_update@concureworkplace.com   \n",
       "...                  ...              ...                                ...   \n",
       "471869   eb1188617718448  eb1188617718448               pete.davis@enron.com   \n",
       "471870   eb1188617718448  eb1188617718448               pete.davis@enron.com   \n",
       "471871   eb1188617718448  eb1188617718448               pete.davis@enron.com   \n",
       "471872   eb1188617718448  eb1188617718448               pete.davis@enron.com   \n",
       "471873   eb1188617718448  eb1188617718448               pete.davis@enron.com   \n",
       "\n",
       "                                TO                  Timestamp Type  \\\n",
       "0           heidi.dubose@enron.com  2001-10-25T07:02:55-07:00   TO   \n",
       "1         jessica.presas@enron.com  2001-11-30T05:39:51-08:00   TO   \n",
       "2       stephanie.miller@enron.com  2001-10-31T10:50:10-08:00   TO   \n",
       "3             s..shively@enron.com  2001-11-22T21:16:45-08:00   TO   \n",
       "4                jsteffe@enron.com  2001-11-22T21:16:40-08:00   TO   \n",
       "...                            ...                        ...  ...   \n",
       "471869        pete.davis@enron.com  2001-12-28T23:37:45-08:00   TO   \n",
       "471870        pete.davis@enron.com  2001-12-28T23:37:45-08:00   CC   \n",
       "471871        pete.davis@enron.com  2001-12-28T23:37:45-08:00  BCC   \n",
       "471872      ryan.slinger@enron.com  2001-12-28T23:37:45-08:00   CC   \n",
       "471873      ryan.slinger@enron.com  2001-12-28T23:37:45-08:00  BCC   \n",
       "\n",
       "                 from_domain  To_domain  \n",
       "0                  enron.com  enron.com  \n",
       "1                  enron.com  enron.com  \n",
       "2                  enron.com  enron.com  \n",
       "3       concureworkplace.com  enron.com  \n",
       "4       concureworkplace.com  enron.com  \n",
       "...                      ...        ...  \n",
       "471869             enron.com  enron.com  \n",
       "471870             enron.com  enron.com  \n",
       "471871             enron.com  enron.com  \n",
       "471872             enron.com  enron.com  \n",
       "471873             enron.com  enron.com  \n",
       "\n",
       "[471871 rows x 8 columns]"
      ]
     },
     "execution_count": 18,
     "metadata": {},
     "output_type": "execute_result"
    }
   ],
   "source": [
    "df"
   ]
  },
  {
   "cell_type": "code",
   "execution_count": 19,
   "metadata": {},
   "outputs": [
    {
     "data": {
      "text/plain": [
       "To_domain\n",
       "enron.com              442340\n",
       "aol.com                  1485\n",
       "hotmail.com               995\n",
       "enron.com>                933\n",
       "ect.enron.com             896\n",
       "                        ...  \n",
       "bmgmusicservice.com         1\n",
       "s-h.com                     1\n",
       "co.multnomah.or.us          1\n",
       "s2systems.com               1\n",
       "cristventures.com           1\n",
       "Name: To_domain, Length: 2867, dtype: int64"
      ]
     },
     "execution_count": 19,
     "metadata": {},
     "output_type": "execute_result"
    }
   ],
   "source": [
    "df.groupby('To_domain')['To_domain'].count().sort_values(ascending=False)"
   ]
  }
 ],
 "metadata": {
  "kernelspec": {
   "display_name": "Python 3",
   "language": "python",
   "name": "python3"
  },
  "language_info": {
   "codemirror_mode": {
    "name": "ipython",
    "version": 3
   },
   "file_extension": ".py",
   "mimetype": "text/x-python",
   "name": "python",
   "nbconvert_exporter": "python",
   "pygments_lexer": "ipython3",
   "version": "3.11.3"
  }
 },
 "nbformat": 4,
 "nbformat_minor": 4
}
